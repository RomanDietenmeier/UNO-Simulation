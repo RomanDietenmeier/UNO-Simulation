{
 "cells": [
  {
   "cell_type": "code",
   "execution_count": 17,
   "id": "fe039b0e-ef83-49a8-8929-879d705342d7",
   "metadata": {},
   "outputs": [
    {
     "name": "stdout",
     "output_type": "stream",
     "text": [
      "3.11.3 (main, Apr  7 2023, 20:13:31) [Clang 14.0.0 (clang-1400.0.29.202)]\n"
     ]
    }
   ],
   "source": [
    "import sys\n",
    "import json\n",
    "from enum import Enum\n",
    "import matplotlib.pyplot as plt\n",
    "import random\n",
    "print(sys.version)"
   ]
  },
  {
   "cell_type": "code",
   "execution_count": 18,
   "id": "c019f6ee-1c11-4f09-8a06-d9cb97d049fe",
   "metadata": {},
   "outputs": [
    {
     "data": {
      "text/plain": [
       "{'1': {'red': 4, 'green': 4, 'blue': 2, 'yellow': 4, 'all': 0},\n",
       " '2': {'red': 3, 'green': 4, 'blue': 2, 'yellow': 4, 'all': 0},\n",
       " '3': {'red': 3, 'green': 4, 'blue': 4, 'yellow': 3, 'all': 0},\n",
       " '4': {'red': 4, 'green': 3, 'blue': 4, 'yellow': 4, 'all': 0},\n",
       " '5': {'red': 4, 'green': 3, 'blue': 3, 'yellow': 2, 'all': 0},\n",
       " '6': {'red': 3, 'green': 3, 'blue': 2, 'yellow': 2, 'all': 0},\n",
       " '7': {'red': 3, 'green': 4, 'blue': 4, 'yellow': 4, 'all': 0},\n",
       " '8': {'red': 4, 'green': 4, 'blue': 4, 'yellow': 4, 'all': 0},\n",
       " '9': {'red': 4, 'green': 4, 'blue': 4, 'yellow': 3, 'all': 0},\n",
       " '0': {'red': 1, 'green': 2, 'blue': 1, 'yellow': 2, 'all': 0},\n",
       " 'skip': {'red': 4, 'green': 4, 'blue': 3, 'yellow': 3, 'all': 0},\n",
       " 'draw2': {'red': 3, 'green': 3, 'blue': 4, 'yellow': 2, 'all': 0},\n",
       " 'reverse': {'red': 2, 'green': 4, 'blue': 4, 'yellow': 4, 'all': 0},\n",
       " 'wild': {'red': 0, 'green': 0, 'blue': 0, 'yellow': 0, 'all': 5},\n",
       " 'wild draw4': {'red': 0, 'green': 0, 'blue': 0, 'yellow': 0, 'all': 8}}"
      ]
     },
     "execution_count": 18,
     "metadata": {},
     "output_type": "execute_result"
    }
   ],
   "source": [
    "deck=json.load(open(\"DietenmeierUnoCards.json\"))\n",
    "deck"
   ]
  },
  {
   "cell_type": "code",
   "execution_count": 19,
   "id": "280e1a7c-92c5-42a0-b469-8bc2a36a68f9",
   "metadata": {},
   "outputs": [
    {
     "name": "stdout",
     "output_type": "stream",
     "text": [
      "SUM: 183\n"
     ]
    },
    {
     "data": {
      "image/png": "[encoded data removed]",
      "text/plain": [
       "<Figure size 640x480 with 1 Axes>"
      ]
     },
     "metadata": {},
     "output_type": "display_data"
    }
   ],
   "source": [
    "class Color(Enum):\n",
    "    RED=\"red\"\n",
    "    GREEN=\"green\"\n",
    "    BLUE=\"blue\"\n",
    "    YELLOW=\"yellow\"\n",
    "    ALL=\"all\"\n",
    "    \n",
    "allCardCount=0\n",
    "cardCount={\n",
    "Color.RED:0,Color.GREEN:0,Color.BLUE:0,Color.YELLOW:0,Color.ALL:0}\n",
    "\n",
    "for key in deck:\n",
    "    for color in Color:\n",
    "        cardCount[color]+=deck[key][color.value]\n",
    "        allCardCount+=deck[key][color.value]\n",
    "\n",
    "cardCount\n",
    "\n",
    "x=[]\n",
    "for key in cardCount.keys():\n",
    "    if key==color.ALL:\n",
    "        x.append('special')\n",
    "    else:\n",
    "        x.append(key.value)\n",
    "y=cardCount.values()\n",
    "plt.bar(x=x,height=y,color=['red','green','blue','yellow','black'])\n",
    "print(f\"SUM: {allCardCount}\")"
   ]
  },
  {
   "cell_type": "code",
   "execution_count": 63,
   "id": "6b96045d",
   "metadata": {},
   "outputs": [
    {
     "name": "stdout",
     "output_type": "stream",
     "text": [
      "playerCount: 8\n",
      "stackCount: 127\n",
      "stackerCount: 0\n",
      "actions: 0\n",
      "player 0 - 7\n",
      "player 1 - 7\n",
      "player 2 - 7\n",
      "player 3 - 7\n",
      "player 4 - 7\n",
      "player 5 - 7\n",
      "player 6 - 7\n",
      "player 7 - 7\n",
      "\n"
     ]
    }
   ],
   "source": [
    "# house rule simulation\n",
    "\n",
    "class CardName(Enum):\n",
    "    ZERO=0\n",
    "    ONE=1\n",
    "    TWO=2\n",
    "    THREE=3\n",
    "    FOUR=4\n",
    "    FIVE=5\n",
    "    SIX=6\n",
    "    SEVEN=7\n",
    "    EIGHT=8\n",
    "    NINE=9\n",
    "    SKIP=10\n",
    "    DRAW_2=11\n",
    "    REVERSE=12\n",
    "    WILD=13\n",
    "    WILD_DRAW_4=14\n",
    "\n",
    "class Card:\n",
    "    def __init__(s, name:CardName,color:Color):\n",
    "        s.name = name\n",
    "        s.color=color\n",
    "        \n",
    "    @staticmethod\n",
    "    def jsonCardToCard(name:str,color:Color):\n",
    "        cardName=None\n",
    "        match name:\n",
    "            case \"0\":\n",
    "                cardName=CardName.ZERO\n",
    "            case \"1\":\n",
    "                cardName=CardName.ONE\n",
    "            case \"2\":\n",
    "                cardName=CardName.TWO\n",
    "            case \"3\":\n",
    "                cardName=CardName.THREE\n",
    "            case \"4\":\n",
    "                cardName=CardName.FOUR\n",
    "            case \"5\":\n",
    "                cardName=CardName.FIVE\n",
    "            case \"6\":\n",
    "                cardName=CardName.SIX\n",
    "            case \"7\":\n",
    "                cardName=CardName.SEVEN\n",
    "            case \"8\":\n",
    "                cardName=CardName.EIGHT\n",
    "            case \"9\":\n",
    "                cardName=CardName.NINE\n",
    "            case \"skip\":\n",
    "                cardName=CardName.SKIP\n",
    "            case \"draw2\":\n",
    "                cardName=CardName.DRAW_2\n",
    "            case \"reverse\":\n",
    "                cardName=CardName.REVERSE\n",
    "            case \"wild\":\n",
    "                cardName=CardName.WILD\n",
    "            case \"wild draw4\":\n",
    "                cardName=CardName.WILD_DRAW_4\n",
    "            case _:\n",
    "                raise ValueError(f\"unknown JSON Card name: {name}\") \n",
    "        return Card(cardName,color)\n",
    "\n",
    "    def __str__(s):\n",
    "        return f\"{s.name} - {s.color}\"\n",
    "        \n",
    "\n",
    "class Deck:\n",
    "    def __init__(s):\n",
    "        s.cards=[]\n",
    "        pass\n",
    "    def addCardsFromJson(s,json):\n",
    "        for key in json:\n",
    "            for color in Color:\n",
    "                for i in range(json[key][color.value]):\n",
    "                    s.cards.append(Card.jsonCardToCard(key,color))\n",
    "    def shuffle(s):\n",
    "        random.shuffle(s.cards)\n",
    "    def drawCards(s,n:int)-> list:\n",
    "        ret=[]\n",
    "        for i in range(n):\n",
    "            ret.append(s.cards.pop())\n",
    "        return ret\n",
    "    def addCards(s,cards):\n",
    "        s.cards.extend(cards)\n",
    "    def __str__(s):\n",
    "        ret=\"\"\n",
    "        for card in s.cards:\n",
    "            ret+=str(card)\n",
    "            ret+=\"\\n\"\n",
    "        return ret\n",
    "\n",
    "class Player:\n",
    "    def __init__(s, name:str,cards):\n",
    "        s.name = name\n",
    "\n",
    "        s.cards=cards\n",
    "    \n",
    "    def __str__(s):\n",
    "        return f\"{s.name} - {len(s.cards)}\"\n",
    "\n",
    "class Game:\n",
    "    def __init__(s,deck,playerCount,startCardCount):\n",
    "        s.actions=0\n",
    "\n",
    "        s.stack=Deck()\n",
    "        s.stack.addCardsFromJson(deck)\n",
    "        s.stack.shuffle()\n",
    "        \n",
    "        s.stacker=Deck()\n",
    "\n",
    "        s.players=[]\n",
    "        for i in range(playerCount):\n",
    "            s.players.append(Player(f\"player {i}\",s.stack.drawCards(startCardCount)))\n",
    "    \n",
    "    def __str__(s):\n",
    "        ret=f\"playerCount: {len(s.players)}\\n\"\n",
    "        ret+=f\"stackCount: {len(s.stack.cards)}\\n\"\n",
    "        ret+=f\"stackerCount: {len(s.stacker.cards)}\\n\"\n",
    "        ret+=f\"actions: {s.actions}\\n\"\n",
    "        for player in s.players:\n",
    "            ret+=str(player)+\"\\n\"\n",
    "        return ret\n",
    "\n",
    "\n",
    "\n",
    "\n",
    "game=Game(deck,8,7)\n",
    "print(game)\n",
    "\n",
    "\n",
    "\n"
   ]
  }
 ],
 "metadata": {
  "kernelspec": {
   "display_name": "Python 3 (ipykernel)",
   "language": "python",
   "name": "python3"
  },
  "language_info": {
   "codemirror_mode": {
    "name": "ipython",
    "version": 3
   },
   "file_extension": ".py",
   "mimetype": "text/x-python",
   "name": "python",
   "nbconvert_exporter": "python",
   "pygments_lexer": "ipython3",
   "version": "3.11.3"
  }
 },
 "nbformat": 4,
 "nbformat_minor": 5
}
